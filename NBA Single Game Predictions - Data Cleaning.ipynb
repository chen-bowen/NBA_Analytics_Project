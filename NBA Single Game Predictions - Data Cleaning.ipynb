{
 "cells": [
  {
   "cell_type": "markdown",
   "metadata": {
    "colab_type": "text",
    "id": "3OlY-E2Uh4lP"
   },
   "source": [
    "# NBA Single Game Predictions - Data Cleaning"
   ]
  },
  {
   "cell_type": "markdown",
   "metadata": {},
   "source": [
    "## Summary"
   ]
  },
  {
   "cell_type": "markdown",
   "metadata": {},
   "source": [
    "This notebook will download the necessary datasets from basketball-reference.com"
   ]
  },
  {
   "cell_type": "markdown",
   "metadata": {},
   "source": [
    "## Implementations"
   ]
  },
  {
   "cell_type": "code",
   "execution_count": 2,
   "metadata": {
    "colab": {
     "autoexec": {
      "startup": false,
      "wait_interval": 0
     }
    },
    "colab_type": "code",
    "collapsed": true,
    "id": "UfRk_wE5h4lQ"
   },
   "outputs": [],
   "source": [
    "# Python Set Up\n",
    "from bs4 import BeautifulSoup\n",
    "import pandas as pd\n",
    "import numpy as np\n",
    "import urllib\n",
    "\n",
    "import time\n",
    "import string"
   ]
  },
  {
   "cell_type": "code",
   "execution_count": 3,
   "metadata": {
    "colab": {
     "autoexec": {
      "startup": false,
      "wait_interval": 0
     }
    },
    "colab_type": "code",
    "collapsed": true,
    "id": "LKJxgKH_h4lT"
   },
   "outputs": [],
   "source": [
    "def getSoup(url):\n",
    "    try:\n",
    "        r = urllib.request.urlopen(url)\n",
    "    except:\n",
    "        return None\n",
    "\n",
    "    return BeautifulSoup(r,\"lxml\")"
   ]
  },
  {
   "cell_type": "markdown",
   "metadata": {
    "colab_type": "text",
    "id": "1Fe5QrG6h4lW"
   },
   "source": [
    "**Import Team Game Data**\n",
    "\n",
    " download team game logs data from BasketballReference.com"
   ]
  },
  {
   "cell_type": "code",
   "execution_count": 3,
   "metadata": {
    "colab": {
     "autoexec": {
      "startup": false,
      "wait_interval": 0
     }
    },
    "colab_type": "code",
    "collapsed": true,
    "id": "dNJ2jU8Gh4lX"
   },
   "outputs": [],
   "source": [
    "def getTeamAdvanceGamelogs(team):\n",
    "\n",
    "        soup =  getSoup(\"https://www.basketball-reference.com/teams/\"+ team +\"/2018/gamelog-advanced/\")\n",
    "        #print (\"https://www.basketball-reference.com/teams/\"+ team +\"/2018/gamelog/\")\n",
    "        column_names = [th.getText() for th in \n",
    "                          soup.findAll('tr')[1].findAll('th')]\n",
    "        \n",
    "        # Rename the column names into correct format\n",
    "        column_names[3] = \"Home/Away\"\n",
    "        column_names[6] = \"Team Score\"\n",
    "        column_names[7] = \"Oponent Score\"\n",
    "        for i in range(8,23):\n",
    "            column_names[i] = \"Team \"+ column_names[i] \n",
    "            \n",
    "        \n",
    "\n",
    "        for i in range(24,28):\n",
    "            column_names[i] = \"Opponent \"+ column_names[i] \n",
    "            \n",
    "                     \n",
    "                     \n",
    "        data_rows = soup.findAll('tr')[2:]\n",
    "        game_logs = [[td.getText() for td in data_rows[i].findAll('td')]\n",
    "                       for i in range(len(data_rows))]\n",
    "        team_games = pd.DataFrame(game_logs, columns=column_names[1:])\n",
    "        \n",
    "        return team_games\n",
    "        "
   ]
  },
  {
   "cell_type": "code",
   "execution_count": 4,
   "metadata": {
    "colab": {
     "autoexec": {
      "startup": false,
      "wait_interval": 0
     }
    },
    "colab_type": "code",
    "collapsed": true,
    "id": "ksgAM_afh4la"
   },
   "outputs": [],
   "source": [
    "def getTeamBasicGamelogs(team):\n",
    "\n",
    "        soup =  getSoup(\"https://www.basketball-reference.com/teams/\"+ team +\"/2018/gamelog/\")\n",
    "        #print (\"https://www.basketball-reference.com/teams/\"+ team +\"/2018/gamelog/\")\n",
    "        column_names = [th.getText() for th in \n",
    "                          soup.findAll('tr')[1].findAll('th')]\n",
    "        \n",
    "        # Rename the column names into correct format\n",
    "        column_names[3] = \"Home/Away\"\n",
    "        column_names[6] = \"Team Score\"\n",
    "        column_names[7] = \"Oponent Score\"\n",
    "        for i in range(8,23):\n",
    "            column_names[i] = \"Team \"+ column_names[i] \n",
    "            \n",
    "        \n",
    "\n",
    "        for i in range(25,41):\n",
    "            column_names[i] = \"Opponent \"+ column_names[i] \n",
    "            \n",
    "                     \n",
    "                     \n",
    "        data_rows = soup.findAll('tr')[2:]\n",
    "        game_logs = [[td.getText() for td in data_rows[i].findAll('td')]\n",
    "                       for i in range(len(data_rows))]\n",
    "        team_games = pd.DataFrame(game_logs, columns=column_names[1:])\n",
    "        \n",
    "        return team_games\n",
    "        "
   ]
  },
  {
   "cell_type": "code",
   "execution_count": 31,
   "metadata": {
    "colab": {
     "autoexec": {
      "startup": false,
      "wait_interval": 0
     }
    },
    "colab_type": "code",
    "collapsed": true,
    "id": "B2J_-ygSh4ld"
   },
   "outputs": [],
   "source": [
    "def getTeamSplits(team):\n",
    "    soup =  getSoup(\"https://www.basketball-reference.com/teams/\"+ team +\"/2018/splits/\")\n",
    "    column_names = [th.getText() for th in \n",
    "                      soup.findAll('tr')[1].findAll('th')]\n",
    "    for i in range(5,19):\n",
    "        column_names[i] = \"Team \"+ column_names[i] \n",
    "\n",
    "    for i in range(19,33):\n",
    "        column_names[i] = \"Opponent \"+ column_names[i] \n",
    "            \n",
    "    data_rows = soup.findAll('tr')[41:]\n",
    "    team_splits_data = [[td.getText() for td in data_rows[i].findAll('td')]\n",
    "                   for i in range(len(data_rows))]\n",
    "    team_splits = pd.DataFrame(team_splits_data, columns=column_names[1:])\n",
    "    \n",
    "    return team_splits\n",
    "    "
   ]
  },
  {
   "cell_type": "code",
   "execution_count": 6,
   "metadata": {
    "colab": {
     "autoexec": {
      "startup": false,
      "wait_interval": 0
     }
    },
    "colab_type": "code",
    "collapsed": true,
    "id": "aaW9PynBh4lf"
   },
   "outputs": [],
   "source": [
    "def getCleanTeamBasicGamelogs(team):\n",
    "   \n",
    "    team_games = getTeamBasicGamelogs(team)\n",
    "\n",
    "    team_games.dropna(axis=0, how='all', inplace = True)\n",
    "    team_games = team_games.apply(pd.to_numeric, errors=\"ignore\")\n",
    "    team_games['Home/Away'] = team_games['Home/Away'].apply(lambda x: \"Away\" if x ==\"@\" else \"Home\")\n",
    "\n",
    "    team_games[\"Home Indicator\"] = np.where(team_games['Home/Away'] == 'Home', 1, 0)\n",
    "    team_games[\"Win Indicator\"] = np.where(team_games['W/L'] == 'W', 1, 0)\n",
    "    \n",
    "    return team_games"
   ]
  },
  {
   "cell_type": "code",
   "execution_count": 7,
   "metadata": {
    "colab": {
     "autoexec": {
      "startup": false,
      "wait_interval": 0
     }
    },
    "colab_type": "code",
    "collapsed": true,
    "id": "TDNuWLC1h4lk"
   },
   "outputs": [],
   "source": [
    "def getCleanTeamAdvancedGamelogs(team):\n",
    "   \n",
    "    team_games = getTeamAdvanceGamelogs(team)\n",
    "\n",
    "    team_games.dropna(axis=0, how='all', inplace = True)\n",
    "    team_games = team_games.apply(pd.to_numeric, errors=\"ignore\")\n",
    "    team_games['Home/Away'] = team_games['Home/Away'].apply(lambda x: \"Away\" if x ==\"@\" else \"Home\")\n",
    "\n",
    "    team_games[\"Home Indicator\"] = np.where(team_games['Home/Away'] == 'Home', 1, 0)\n",
    "    team_games[\"Win Indicator\"] = np.where(team_games['W/L'] == 'W', 1, 0)\n",
    "    \n",
    "    return team_games"
   ]
  },
  {
   "cell_type": "code",
   "execution_count": 8,
   "metadata": {
    "colab": {
     "autoexec": {
      "startup": false,
      "wait_interval": 0
     }
    },
    "colab_type": "code",
    "collapsed": true,
    "id": "JAeqrlx3h4lo"
   },
   "outputs": [],
   "source": [
    "def getAllTeamGamelogs(teams):\n",
    "    \n",
    "    team_basic_gamelogs = {}\n",
    "    team_advanced_gamelogs = {}\n",
    "    \n",
    "    team_name = list(teams['Franchise'])\n",
    "    teams_abrev = list(teams['Acronym'])\n",
    "    \n",
    "    team_basic_gamelogs = {team: getCleanTeamBasicGamelogs(team) for team in teams_abrev}\n",
    "    team_advanced_gamelogs = {team: getCleanTeamAdvancedGamelogs(team) for team in teams_abrev}\n",
    "    \n",
    "    return [team_basic_gamelogs, team_advanced_gamelogs]"
   ]
  },
  {
   "cell_type": "code",
   "execution_count": 26,
   "metadata": {
    "colab": {
     "autoexec": {
      "startup": false,
      "wait_interval": 0
     }
    },
    "colab_type": "code",
    "collapsed": true,
    "id": "MTJuMzQMh4lt"
   },
   "outputs": [],
   "source": [
    "def getAllTeamSplits(teams):\n",
    "    \n",
    "    team_gamelogs = {}\n",
    "    \n",
    "    team_name = list(teams['Franchise'])\n",
    "    teams_abrev = list(teams['Acronym'])\n",
    "    \n",
    "    teams_splits = {team: getTeamSplits(team) for team in teams_abrev}\n",
    "    \n",
    "    return teams_splits"
   ]
  },
  {
   "cell_type": "code",
   "execution_count": 27,
   "metadata": {
    "colab": {
     "autoexec": {
      "startup": false,
      "wait_interval": 0
     }
    },
    "colab_type": "code",
    "collapsed": true,
    "id": "fS9wBqRMh4lv"
   },
   "outputs": [],
   "source": [
    "teams = pd.read_csv('data/teams.csv')"
   ]
  },
  {
   "cell_type": "code",
   "execution_count": 13,
   "metadata": {
    "colab": {
     "autoexec": {
      "startup": false,
      "wait_interval": 0
     },
     "base_uri": "https://localhost:8080/",
     "height": 231,
     "output_extras": [
      {
       "item_id": 1
      }
     ]
    },
    "colab_type": "code",
    "collapsed": true,
    "executionInfo": {
     "elapsed": 112976,
     "status": "ok",
     "timestamp": 1518583404588,
     "user": {
      "displayName": "BOWEN CHEN",
      "photoUrl": "//lh6.googleusercontent.com/-c1fHl4YHVWI/AAAAAAAAAAI/AAAAAAAAACM/vdgGzpv-U4c/s50-c-k-no/photo.jpg",
      "userId": "113255826576848984997"
     },
     "user_tz": 480
    },
    "id": "MKviMSboh4ly",
    "outputId": "4f0de4fe-5318-46b6-e92c-079f1def5000"
   },
   "outputs": [
    {
     "name": "stderr",
     "output_type": "stream",
     "text": [
      "C:\\Users\\DELL\\Anaconda3\\lib\\site-packages\\bs4\\__init__.py:181: UserWarning: No parser was explicitly specified, so I'm using the best available HTML parser for this system (\"lxml\"). This usually isn't a problem, but if you run this code on another system, or in a different virtual environment, it may use a different parser and behave differently.\n",
      "\n",
      "The code that caused this warning is on line 193 of the file C:\\Users\\DELL\\Anaconda3\\lib\\runpy.py. To get rid of this warning, change code that looks like this:\n",
      "\n",
      " BeautifulSoup(YOUR_MARKUP})\n",
      "\n",
      "to this:\n",
      "\n",
      " BeautifulSoup(YOUR_MARKUP, \"lxml\")\n",
      "\n",
      "  markup_type=markup_type))\n"
     ]
    },
    {
     "ename": "AttributeError",
     "evalue": "'NoneType' object has no attribute 'findAll'",
     "output_type": "error",
     "traceback": [
      "\u001b[1;31m---------------------------------------------------------------------------\u001b[0m",
      "\u001b[1;31mAttributeError\u001b[0m                            Traceback (most recent call last)",
      "\u001b[1;32m<ipython-input-13-fd335ee3df66>\u001b[0m in \u001b[0;36m<module>\u001b[1;34m()\u001b[0m\n\u001b[1;32m----> 1\u001b[1;33m \u001b[0mteam_basic_gamelogs\u001b[0m\u001b[1;33m,\u001b[0m \u001b[0mteam_advanced_gamelogs\u001b[0m \u001b[1;33m=\u001b[0m \u001b[0mgetAllTeamGamelogs\u001b[0m\u001b[1;33m(\u001b[0m\u001b[0mteams\u001b[0m\u001b[1;33m)\u001b[0m\u001b[1;33m\u001b[0m\u001b[0m\n\u001b[0m",
      "\u001b[1;32m<ipython-input-8-61a29e0bd4f0>\u001b[0m in \u001b[0;36mgetAllTeamGamelogs\u001b[1;34m(teams)\u001b[0m\n\u001b[0;32m      8\u001b[0m \u001b[1;33m\u001b[0m\u001b[0m\n\u001b[0;32m      9\u001b[0m     \u001b[0mteam_basic_gamelogs\u001b[0m \u001b[1;33m=\u001b[0m \u001b[1;33m{\u001b[0m\u001b[0mteam\u001b[0m\u001b[1;33m:\u001b[0m \u001b[0mgetCleanTeamBasicGamelogs\u001b[0m\u001b[1;33m(\u001b[0m\u001b[0mteam\u001b[0m\u001b[1;33m)\u001b[0m \u001b[1;32mfor\u001b[0m \u001b[0mteam\u001b[0m \u001b[1;32min\u001b[0m \u001b[0mteams_abrev\u001b[0m\u001b[1;33m}\u001b[0m\u001b[1;33m\u001b[0m\u001b[0m\n\u001b[1;32m---> 10\u001b[1;33m     \u001b[0mteam_advanced_gamelogs\u001b[0m \u001b[1;33m=\u001b[0m \u001b[1;33m{\u001b[0m\u001b[0mteam\u001b[0m\u001b[1;33m:\u001b[0m \u001b[0mgetCleanTeamAdvancedGamelogs\u001b[0m\u001b[1;33m(\u001b[0m\u001b[0mteam\u001b[0m\u001b[1;33m)\u001b[0m \u001b[1;32mfor\u001b[0m \u001b[0mteam\u001b[0m \u001b[1;32min\u001b[0m \u001b[0mteams_abrev\u001b[0m\u001b[1;33m}\u001b[0m\u001b[1;33m\u001b[0m\u001b[0m\n\u001b[0m\u001b[0;32m     11\u001b[0m \u001b[1;33m\u001b[0m\u001b[0m\n\u001b[0;32m     12\u001b[0m     \u001b[1;32mreturn\u001b[0m \u001b[1;33m[\u001b[0m\u001b[0mteam_basic_gamelogs\u001b[0m\u001b[1;33m,\u001b[0m \u001b[0mteam_advanced_gamelogs\u001b[0m\u001b[1;33m]\u001b[0m\u001b[1;33m\u001b[0m\u001b[0m\n",
      "\u001b[1;32m<ipython-input-8-61a29e0bd4f0>\u001b[0m in \u001b[0;36m<dictcomp>\u001b[1;34m(.0)\u001b[0m\n\u001b[0;32m      8\u001b[0m \u001b[1;33m\u001b[0m\u001b[0m\n\u001b[0;32m      9\u001b[0m     \u001b[0mteam_basic_gamelogs\u001b[0m \u001b[1;33m=\u001b[0m \u001b[1;33m{\u001b[0m\u001b[0mteam\u001b[0m\u001b[1;33m:\u001b[0m \u001b[0mgetCleanTeamBasicGamelogs\u001b[0m\u001b[1;33m(\u001b[0m\u001b[0mteam\u001b[0m\u001b[1;33m)\u001b[0m \u001b[1;32mfor\u001b[0m \u001b[0mteam\u001b[0m \u001b[1;32min\u001b[0m \u001b[0mteams_abrev\u001b[0m\u001b[1;33m}\u001b[0m\u001b[1;33m\u001b[0m\u001b[0m\n\u001b[1;32m---> 10\u001b[1;33m     \u001b[0mteam_advanced_gamelogs\u001b[0m \u001b[1;33m=\u001b[0m \u001b[1;33m{\u001b[0m\u001b[0mteam\u001b[0m\u001b[1;33m:\u001b[0m \u001b[0mgetCleanTeamAdvancedGamelogs\u001b[0m\u001b[1;33m(\u001b[0m\u001b[0mteam\u001b[0m\u001b[1;33m)\u001b[0m \u001b[1;32mfor\u001b[0m \u001b[0mteam\u001b[0m \u001b[1;32min\u001b[0m \u001b[0mteams_abrev\u001b[0m\u001b[1;33m}\u001b[0m\u001b[1;33m\u001b[0m\u001b[0m\n\u001b[0m\u001b[0;32m     11\u001b[0m \u001b[1;33m\u001b[0m\u001b[0m\n\u001b[0;32m     12\u001b[0m     \u001b[1;32mreturn\u001b[0m \u001b[1;33m[\u001b[0m\u001b[0mteam_basic_gamelogs\u001b[0m\u001b[1;33m,\u001b[0m \u001b[0mteam_advanced_gamelogs\u001b[0m\u001b[1;33m]\u001b[0m\u001b[1;33m\u001b[0m\u001b[0m\n",
      "\u001b[1;32m<ipython-input-7-d3eed715fb63>\u001b[0m in \u001b[0;36mgetCleanTeamAdvancedGamelogs\u001b[1;34m(team)\u001b[0m\n\u001b[0;32m      1\u001b[0m \u001b[1;32mdef\u001b[0m \u001b[0mgetCleanTeamAdvancedGamelogs\u001b[0m\u001b[1;33m(\u001b[0m\u001b[0mteam\u001b[0m\u001b[1;33m)\u001b[0m\u001b[1;33m:\u001b[0m\u001b[1;33m\u001b[0m\u001b[0m\n\u001b[0;32m      2\u001b[0m \u001b[1;33m\u001b[0m\u001b[0m\n\u001b[1;32m----> 3\u001b[1;33m     \u001b[0mteam_games\u001b[0m \u001b[1;33m=\u001b[0m \u001b[0mgetTeamAdvanceGamelogs\u001b[0m\u001b[1;33m(\u001b[0m\u001b[0mteam\u001b[0m\u001b[1;33m)\u001b[0m\u001b[1;33m\u001b[0m\u001b[0m\n\u001b[0m\u001b[0;32m      4\u001b[0m \u001b[1;33m\u001b[0m\u001b[0m\n\u001b[0;32m      5\u001b[0m     \u001b[0mteam_games\u001b[0m\u001b[1;33m.\u001b[0m\u001b[0mdropna\u001b[0m\u001b[1;33m(\u001b[0m\u001b[0maxis\u001b[0m\u001b[1;33m=\u001b[0m\u001b[1;36m0\u001b[0m\u001b[1;33m,\u001b[0m \u001b[0mhow\u001b[0m\u001b[1;33m=\u001b[0m\u001b[1;34m'all'\u001b[0m\u001b[1;33m,\u001b[0m \u001b[0minplace\u001b[0m \u001b[1;33m=\u001b[0m \u001b[1;32mTrue\u001b[0m\u001b[1;33m)\u001b[0m\u001b[1;33m\u001b[0m\u001b[0m\n",
      "\u001b[1;32m<ipython-input-3-4fb3b0ba87b3>\u001b[0m in \u001b[0;36mgetTeamAdvanceGamelogs\u001b[1;34m(team)\u001b[0m\n\u001b[0;32m      4\u001b[0m         \u001b[1;31m#print (\"https://www.basketball-reference.com/teams/\"+ team +\"/2018/gamelog/\")\u001b[0m\u001b[1;33m\u001b[0m\u001b[1;33m\u001b[0m\u001b[0m\n\u001b[0;32m      5\u001b[0m         column_names = [th.getText() for th in \n\u001b[1;32m----> 6\u001b[1;33m                           soup.findAll('tr')[1].findAll('th')]\n\u001b[0m\u001b[0;32m      7\u001b[0m \u001b[1;33m\u001b[0m\u001b[0m\n\u001b[0;32m      8\u001b[0m         \u001b[1;31m# Rename the column names into correct format\u001b[0m\u001b[1;33m\u001b[0m\u001b[1;33m\u001b[0m\u001b[0m\n",
      "\u001b[1;31mAttributeError\u001b[0m: 'NoneType' object has no attribute 'findAll'"
     ]
    }
   ],
   "source": [
    "team_basic_gamelogs, team_advanced_gamelogs = getAllTeamGamelogs(teams)"
   ]
  },
  {
   "cell_type": "code",
   "execution_count": 32,
   "metadata": {
    "colab": {
     "autoexec": {
      "startup": false,
      "wait_interval": 0
     },
     "base_uri": "https://localhost:8080/",
     "height": 231,
     "output_extras": [
      {
       "item_id": 1
      }
     ]
    },
    "colab_type": "code",
    "collapsed": true,
    "executionInfo": {
     "elapsed": 86453,
     "status": "ok",
     "timestamp": 1518583491061,
     "user": {
      "displayName": "BOWEN CHEN",
      "photoUrl": "//lh6.googleusercontent.com/-c1fHl4YHVWI/AAAAAAAAAAI/AAAAAAAAACM/vdgGzpv-U4c/s50-c-k-no/photo.jpg",
      "userId": "113255826576848984997"
     },
     "user_tz": 480
    },
    "id": "W2T8zSsZh4l0",
    "outputId": "1f16d292-f2e6-4a74-f61d-d093aad767f7"
   },
   "outputs": [
    {
     "name": "stderr",
     "output_type": "stream",
     "text": [
      "C:\\Users\\DELL\\Anaconda3\\lib\\site-packages\\bs4\\__init__.py:181: UserWarning: No parser was explicitly specified, so I'm using the best available HTML parser for this system (\"lxml\"). This usually isn't a problem, but if you run this code on another system, or in a different virtual environment, it may use a different parser and behave differently.\n",
      "\n",
      "The code that caused this warning is on line 193 of the file C:\\Users\\DELL\\Anaconda3\\lib\\runpy.py. To get rid of this warning, change code that looks like this:\n",
      "\n",
      " BeautifulSoup(YOUR_MARKUP})\n",
      "\n",
      "to this:\n",
      "\n",
      " BeautifulSoup(YOUR_MARKUP, \"lxml\")\n",
      "\n",
      "  markup_type=markup_type))\n"
     ]
    }
   ],
   "source": [
    "teams_splits = getAllTeamSplits(teams)"
   ]
  },
  {
   "cell_type": "code",
   "execution_count": 33,
   "metadata": {
    "colab": {
     "autoexec": {
      "startup": false,
      "wait_interval": 0
     }
    },
    "colab_type": "code",
    "collapsed": true,
    "id": "dNDnt9CLh4l2"
   },
   "outputs": [],
   "source": [
    "team_splits ={team: teams_splits[team].assign(Team= team)  \n",
    "                         for team in teams_splits.keys()}\n",
    "team_splits = pd.concat(list(team_splits.values()))\n",
    "team_splits = team_splits.apply(pd.to_numeric, errors=\"ignore\")"
   ]
  },
  {
   "cell_type": "code",
   "execution_count": 34,
   "metadata": {
    "colab": {
     "autoexec": {
      "startup": false,
      "wait_interval": 0
     }
    },
    "colab_type": "code",
    "collapsed": true,
    "id": "WBGZJeDoh4l6"
   },
   "outputs": [],
   "source": [
    "team_splits.to_csv('data/Team Splits.csv')"
   ]
  },
  {
   "cell_type": "code",
   "execution_count": 15,
   "metadata": {
    "colab": {
     "autoexec": {
      "startup": false,
      "wait_interval": 0
     }
    },
    "colab_type": "code",
    "collapsed": true,
    "id": "GstR8SjZh4l8"
   },
   "outputs": [],
   "source": [
    "team_basic_gamelogs ={team: team_basic_gamelogs[team].assign(Team= team)  \n",
    "                         for team in team_basic_gamelogs.keys()}\n",
    "team_basic_gamelogs = pd.concat(list(team_basic_gamelogs.values()))"
   ]
  },
  {
   "cell_type": "code",
   "execution_count": 16,
   "metadata": {
    "colab": {
     "autoexec": {
      "startup": false,
      "wait_interval": 0
     }
    },
    "colab_type": "code",
    "collapsed": true,
    "id": "MYjEdjJMh4mA"
   },
   "outputs": [],
   "source": [
    "team_advanced_gamelogs ={team: team_advanced_gamelogs[team].assign(Team= team)  \n",
    "                         for team in team_advanced_gamelogs.keys()}\n",
    "team_advanced_gamelogs = pd.concat(list(team_advanced_gamelogs.values()))"
   ]
  },
  {
   "cell_type": "code",
   "execution_count": 17,
   "metadata": {
    "colab": {
     "autoexec": {
      "startup": false,
      "wait_interval": 0
     }
    },
    "colab_type": "code",
    "collapsed": true,
    "id": "_OwIA3wmh4mB"
   },
   "outputs": [],
   "source": [
    "team_basic_gamelogs = team_basic_gamelogs.apply(pd.to_numeric, errors=\"ignore\")\n",
    "team_advanced_gamelogs = team_advanced_gamelogs.apply(pd.to_numeric, errors=\"ignore\")"
   ]
  },
  {
   "cell_type": "code",
   "execution_count": 18,
   "metadata": {
    "colab": {
     "autoexec": {
      "startup": false,
      "wait_interval": 0
     }
    },
    "colab_type": "code",
    "collapsed": true,
    "id": "9rsLzEiWh4mE"
   },
   "outputs": [],
   "source": [
    "team_basic_gamelogs = team_basic_gamelogs[['G', 'Date', 'Team', 'Home/Away', 'Opp', 'W/L', 'Team Score', 'Oponent Score',\n",
    "                                           'Team FG', 'Team FGA', 'Team FG%', 'Team 3P', 'Team 3PA', 'Team 3P%',\n",
    "                                           'Team FT', 'Team FTA', 'Team FT%', 'Team ORB', 'Team TRB', 'Team AST',\n",
    "                                           'Team STL', 'Team BLK', 'Team TOV', 'PF', 'Opponent FG',\n",
    "                                           'Opponent FGA', 'Opponent FG%', 'Opponent 3P', 'Opponent 3PA',\n",
    "                                           'Opponent 3P%', 'Opponent FT', 'Opponent FTA', 'Opponent FT%',\n",
    "                                           'Opponent ORB', 'Opponent TRB', 'Opponent AST', 'Opponent STL',\n",
    "                                           'Opponent BLK', 'Opponent TOV', 'Opponent PF', 'Home Indicator',\n",
    "                                           'Win Indicator']]"
   ]
  },
  {
   "cell_type": "code",
   "execution_count": 19,
   "metadata": {
    "colab": {
     "autoexec": {
      "startup": false,
      "wait_interval": 0
     }
    },
    "colab_type": "code",
    "collapsed": true,
    "id": "u7qmG35vh4mG"
   },
   "outputs": [],
   "source": [
    "team_advanced_gamelogs = team_advanced_gamelogs[['Team ORtg', 'Team DRtg', 'Team Pace', 'Team FTr', 'Team 3PAr',\n",
    "                                               'Team TS%', 'Team TRB%', 'Team AST%', 'Team STL%', 'Team BLK%',\n",
    "                                                'Team eFG%', 'Team TOV%', 'Team ORB%', 'Team FT/FGA',\n",
    "                                               'Opponent eFG%', 'Opponent TOV%', 'Opponent DRB%', 'Opponent FT/FGA']]"
   ]
  },
  {
   "cell_type": "code",
   "execution_count": 20,
   "metadata": {
    "colab": {
     "autoexec": {
      "startup": false,
      "wait_interval": 0
     }
    },
    "colab_type": "code",
    "collapsed": true,
    "id": "KyC8aCsih4mI"
   },
   "outputs": [],
   "source": [
    "team_gamelogs = pd.concat([team_basic_gamelogs, team_advanced_gamelogs], axis = 1)"
   ]
  },
  {
   "cell_type": "code",
   "execution_count": 21,
   "metadata": {
    "colab": {
     "autoexec": {
      "startup": false,
      "wait_interval": 0
     }
    },
    "colab_type": "code",
    "collapsed": true,
    "id": "iNmojjg-h4mL"
   },
   "outputs": [],
   "source": [
    "team_gamelogs.to_csv('data/Team Gamelogs.csv')"
   ]
  },
  {
   "cell_type": "markdown",
   "metadata": {
    "colab_type": "text",
    "id": "FC5k1UqRh4mN"
   },
   "source": [
    "**Import Current Players Data**"
   ]
  },
  {
   "cell_type": "markdown",
   "metadata": {
    "colab_type": "text",
    "id": "o3lAs_vUh4mN"
   },
   "source": [
    "Note: A small portion of this code is partially adapted from \"https://github.com/andrewgiessel/basketballcrawler/edit/master/basketballCrawler\" (adapted a small portion of functions). I would like to provide my sincere thanks for Andrew to build such a great tool and for us to partially adapt"
   ]
  },
  {
   "cell_type": "code",
   "execution_count": 22,
   "metadata": {
    "colab": {
     "autoexec": {
      "startup": false,
      "wait_interval": 0
     },
     "base_uri": "https://localhost:8080/",
     "height": 231,
     "output_extras": [
      {
       "item_id": 1
      }
     ]
    },
    "colab_type": "code",
    "collapsed": true,
    "executionInfo": {
     "elapsed": 28974,
     "status": "ok",
     "timestamp": 1518583523875,
     "user": {
      "displayName": "BOWEN CHEN",
      "photoUrl": "//lh6.googleusercontent.com/-c1fHl4YHVWI/AAAAAAAAAAI/AAAAAAAAACM/vdgGzpv-U4c/s50-c-k-no/photo.jpg",
      "userId": "113255826576848984997"
     },
     "user_tz": 480
    },
    "id": "TCIjoIiRh4mO",
    "outputId": "d4d00c7f-65fa-4198-fc1c-542524dae76b"
   },
   "outputs": [
    {
     "name": "stderr",
     "output_type": "stream",
     "text": [
      "C:\\Users\\DELL\\Anaconda3\\lib\\site-packages\\bs4\\__init__.py:181: UserWarning: No parser was explicitly specified, so I'm using the best available HTML parser for this system (\"lxml\"). This usually isn't a problem, but if you run this code on another system, or in a different virtual environment, it may use a different parser and behave differently.\n",
      "\n",
      "The code that caused this warning is on line 193 of the file C:\\Users\\DELL\\Anaconda3\\lib\\runpy.py. To get rid of this warning, change code that looks like this:\n",
      "\n",
      " BeautifulSoup(YOUR_MARKUP})\n",
      "\n",
      "to this:\n",
      "\n",
      " BeautifulSoup(YOUR_MARKUP, \"lxml\")\n",
      "\n",
      "  markup_type=markup_type))\n"
     ]
    }
   ],
   "source": [
    "player_names = []\n",
    "\n",
    "for letter in string.ascii_lowercase:\n",
    "    letter_page = getSoup('http://www.basketball-reference.com/players/%s/' % (letter))\n",
    "\n",
    "    # Only active players have tags strong\n",
    "    try:\n",
    "        current_names = letter_page.findAll('strong')\n",
    "    except:\n",
    "        pass\n",
    "    for n in current_names:\n",
    "        name_data = next(n.children)\n",
    "        \n",
    "        try:\n",
    "            player_names.append((name_data.contents[0], 'http://www.basketball-reference.com' + name_data.attrs['href']))\n",
    "            \n",
    "        except Exception as e:\n",
    "            pass\n",
    "#    print(player_names)\n",
    "player_names = dict(player_names)"
   ]
  },
  {
   "cell_type": "markdown",
   "metadata": {
    "colab_type": "text",
    "id": "-kgQah0fh4mP"
   },
   "source": [
    "Get all the players game log urls"
   ]
  },
  {
   "cell_type": "code",
   "execution_count": 23,
   "metadata": {
    "colab": {
     "autoexec": {
      "startup": false,
      "wait_interval": 0
     }
    },
    "colab_type": "code",
    "collapsed": true,
    "id": "4TCkQJ7jh4mQ"
   },
   "outputs": [],
   "source": [
    "players_gamelogs_basic_url = {url: player_names[url][:-5] + '/gamelog/2018' for url in player_names}\n",
    "players_gamelogs_advanced_url = {url: player_names[url][:-5] + '/gamelog-advanced/2018/' for url in player_names}"
   ]
  },
  {
   "cell_type": "code",
   "execution_count": 24,
   "metadata": {
    "colab": {
     "autoexec": {
      "startup": false,
      "wait_interval": 0
     }
    },
    "colab_type": "code",
    "collapsed": true,
    "id": "5hfmCoMDh4mS"
   },
   "outputs": [],
   "source": [
    "def buildDataFrame(text, header):\n",
    "\n",
    "    if not text:\n",
    "        return None\n",
    "    else:\n",
    "        rows = text[0].findAll('tr')[1:]\n",
    "\n",
    "        rows = [r for r in rows if len(r.findAll('td')) > 0]\n",
    "        parsed_table = [[col.getText() for col in row.findAll('td')] for row in rows]\n",
    "        \n",
    "        return pd.io.parsers.TextParser(parsed_table, names=header[1:], parse_dates=True).get_chunk()"
   ]
  },
  {
   "cell_type": "code",
   "execution_count": 25,
   "metadata": {
    "colab": {
     "autoexec": {
      "startup": false,
      "wait_interval": 0
     }
    },
    "colab_type": "code",
    "collapsed": true,
    "id": "_9etWz2Hh4mU"
   },
   "outputs": [],
   "source": [
    "def buildgameLogs(url, basic_advanced):\n",
    "    glsoup = getSoup(url)\n",
    "\n",
    "    reg_season_table = glsoup.findAll('table', attrs={'id': 'pgl_'+ basic_advanced})  # id for reg season table\n",
    "\n",
    "    # parse the table header.  we'll use this for the creation of the DataFrame\n",
    "    header = []\n",
    "    for th in reg_season_table[0].findAll('th'):\n",
    "        if not th.getText() in header:\n",
    "            header.append(th.getText())\n",
    "\n",
    "    # add in headers for home/away and w/l columns. a must to get the DataFrame to parse correctly\n",
    "\n",
    "    header[5] = u'HomeAway'\n",
    "    header.insert(7, u'WinLoss')\n",
    "    regular_season = buildDataFrame(reg_season_table, header).iloc[:,0:29]\n",
    "    \n",
    "    return regular_season"
   ]
  },
  {
   "cell_type": "code",
   "execution_count": 26,
   "metadata": {
    "colab": {
     "autoexec": {
      "startup": false,
      "wait_interval": 0
     }
    },
    "colab_type": "code",
    "collapsed": true,
    "id": "zQgbQb7Zh4mV"
   },
   "outputs": [],
   "source": [
    "def getAllPlayerGameLogs(players_gamelogs_url, basic_advanced):\n",
    "    players_gamelogs = {}\n",
    "    for name, url in players_gamelogs_url.items():\n",
    "        try:\n",
    "            players_gamelogs[name] = buildgameLogs(url, basic_advanced)\n",
    "\n",
    "        except:\n",
    "            pass\n",
    "    print(basic_advanced + \" game logs import completed\")    \n",
    "    return players_gamelogs"
   ]
  },
  {
   "cell_type": "code",
   "execution_count": 27,
   "metadata": {
    "colab": {
     "autoexec": {
      "startup": false,
      "wait_interval": 0
     },
     "base_uri": "https://localhost:8080/",
     "height": 266,
     "output_extras": [
      {
       "item_id": 1
      },
      {
       "item_id": 3
      }
     ]
    },
    "colab_type": "code",
    "executionInfo": {
     "elapsed": 1728967,
     "status": "ok",
     "timestamp": 1518585254380,
     "user": {
      "displayName": "BOWEN CHEN",
      "photoUrl": "//lh6.googleusercontent.com/-c1fHl4YHVWI/AAAAAAAAAAI/AAAAAAAAACM/vdgGzpv-U4c/s50-c-k-no/photo.jpg",
      "userId": "113255826576848984997"
     },
     "user_tz": 480
    },
    "id": "QGOmO-Doh4mX",
    "outputId": "cd4f22d2-8ee0-46df-882d-d1951c0977d9"
   },
   "outputs": [
    {
     "name": "stderr",
     "output_type": "stream",
     "text": [
      "C:\\Users\\DELL\\Anaconda3\\lib\\site-packages\\bs4\\__init__.py:181: UserWarning: No parser was explicitly specified, so I'm using the best available HTML parser for this system (\"lxml\"). This usually isn't a problem, but if you run this code on another system, or in a different virtual environment, it may use a different parser and behave differently.\n",
      "\n",
      "The code that caused this warning is on line 193 of the file C:\\Users\\DELL\\Anaconda3\\lib\\runpy.py. To get rid of this warning, change code that looks like this:\n",
      "\n",
      " BeautifulSoup(YOUR_MARKUP})\n",
      "\n",
      "to this:\n",
      "\n",
      " BeautifulSoup(YOUR_MARKUP, \"lxml\")\n",
      "\n",
      "  markup_type=markup_type))\n"
     ]
    },
    {
     "name": "stdout",
     "output_type": "stream",
     "text": [
      "basic game logs import completed\n",
      "advanced game logs import completed\n"
     ]
    }
   ],
   "source": [
    "players_basic_gamelogs = getAllPlayerGameLogs(players_gamelogs_basic_url, 'basic')\n",
    "players_advanced_gamelogs = getAllPlayerGameLogs(players_gamelogs_advanced_url, 'advanced')"
   ]
  },
  {
   "cell_type": "code",
   "execution_count": 28,
   "metadata": {
    "colab": {
     "autoexec": {
      "startup": false,
      "wait_interval": 0
     }
    },
    "colab_type": "code",
    "collapsed": true,
    "id": "fphYCY8xh4ma"
   },
   "outputs": [],
   "source": [
    "players_basic_gamelogs ={name: players_basic_gamelogs[name].assign(Player= name)  \n",
    "                         for name in players_basic_gamelogs.keys()}\n",
    "\n",
    "players_advanced_gamelogs ={name: players_advanced_gamelogs[name].assign(Player= name)  \n",
    "                         for name in players_advanced_gamelogs.keys()}"
   ]
  },
  {
   "cell_type": "code",
   "execution_count": 29,
   "metadata": {
    "colab": {
     "autoexec": {
      "startup": false,
      "wait_interval": 0
     }
    },
    "colab_type": "code",
    "collapsed": true,
    "id": "UCagIeO1h4mc"
   },
   "outputs": [],
   "source": [
    "players_basic_gamelogs = pd.concat(list(players_basic_gamelogs.values()), axis=0)[['G', 'Date', 'Player', 'Tm', \n",
    "                                                        'HomeAway', 'Opp', 'WinLoss', 'GS', 'MP', 'PTS',\n",
    "                                                        'FG', 'FGA', 'FG%', '3P', '3PA', '3P%', 'FT', \n",
    "                                                        'FTA', 'FT%', 'ORB','DRB', 'TRB', 'AST', 'STL', \n",
    "                                                        'BLK', 'TOV', 'PF',  '+/-']]"
   ]
  },
  {
   "cell_type": "code",
   "execution_count": 30,
   "metadata": {
    "colab": {
     "autoexec": {
      "startup": false,
      "wait_interval": 0
     },
     "base_uri": "https://localhost:8080/",
     "height": 220,
     "output_extras": [
      {
       "item_id": 1
      }
     ]
    },
    "colab_type": "code",
    "collapsed": true,
    "executionInfo": {
     "elapsed": 358,
     "status": "error",
     "timestamp": 1518586705265,
     "user": {
      "displayName": "BOWEN CHEN",
      "photoUrl": "//lh6.googleusercontent.com/-c1fHl4YHVWI/AAAAAAAAAAI/AAAAAAAAACM/vdgGzpv-U4c/s50-c-k-no/photo.jpg",
      "userId": "113255826576848984997"
     },
     "user_tz": 480
    },
    "id": "cSDwzvtth4me",
    "outputId": "e2f43efa-b475-4c63-b6ad-c334ea065b2e"
   },
   "outputs": [],
   "source": [
    "players_advanced_gamelogs = pd.concat(list(players_advanced_gamelogs.values()), axis=0)"
   ]
  },
  {
   "cell_type": "code",
   "execution_count": 31,
   "metadata": {
    "colab": {
     "autoexec": {
      "startup": false,
      "wait_interval": 0
     }
    },
    "colab_type": "code",
    "collapsed": true,
    "id": "DZwBlbWL0n3h"
   },
   "outputs": [],
   "source": [
    "players_advanced_gamelogs = players_advanced_gamelogs[['TS%', 'eFG%', 'ORB%', \n",
    "                                                                                         'DRB%', 'TRB%', 'AST%', 'STL%', 'BLK%', \n",
    "                                                                                         'TOV%','USG%', 'ORtg', 'DRtg', 'GmSc']]"
   ]
  },
  {
   "cell_type": "markdown",
   "metadata": {
    "colab_type": "text",
    "id": "yp3uytYqh4mh"
   },
   "source": [
    "Clean and engineer the data"
   ]
  },
  {
   "cell_type": "code",
   "execution_count": 33,
   "metadata": {
    "colab": {
     "autoexec": {
      "startup": false,
      "wait_interval": 0
     }
    },
    "colab_type": "code",
    "collapsed": true,
    "id": "dINhGkLXh4mi"
   },
   "outputs": [],
   "source": [
    "players_basic_gamelogs = players_basic_gamelogs.apply(pd.to_numeric, errors=\"ignore\")\n",
    "players_advanced_gamelogs = players_advanced_gamelogs.apply(pd.to_numeric, errors=\"ignore\")"
   ]
  },
  {
   "cell_type": "code",
   "execution_count": 34,
   "metadata": {
    "colab": {
     "autoexec": {
      "startup": false,
      "wait_interval": 0
     }
    },
    "colab_type": "code",
    "collapsed": true,
    "id": "rVulKux8h4mk"
   },
   "outputs": [],
   "source": [
    "player_game_logs = pd.concat([players_basic_gamelogs.reset_index(), players_advanced_gamelogs.reset_index()], axis = 1)\n"
   ]
  },
  {
   "cell_type": "code",
   "execution_count": 35,
   "metadata": {
    "colab": {
     "autoexec": {
      "startup": false,
      "wait_interval": 0
     }
    },
    "colab_type": "code",
    "collapsed": true,
    "id": "4_mhcL8jh4mm"
   },
   "outputs": [],
   "source": [
    "player_game_logs['NetRtg'] = player_game_logs['ORtg'] - player_game_logs['DRtg']"
   ]
  },
  {
   "cell_type": "code",
   "execution_count": 36,
   "metadata": {
    "colab": {
     "autoexec": {
      "startup": false,
      "wait_interval": 0
     },
     "base_uri": "https://localhost:8080/",
     "height": 224,
     "output_extras": [
      {
       "item_id": 1
      }
     ]
    },
    "colab_type": "code",
    "executionInfo": {
     "elapsed": 263,
     "status": "ok",
     "timestamp": 1518586967944,
     "user": {
      "displayName": "BOWEN CHEN",
      "photoUrl": "//lh6.googleusercontent.com/-c1fHl4YHVWI/AAAAAAAAAAI/AAAAAAAAACM/vdgGzpv-U4c/s50-c-k-no/photo.jpg",
      "userId": "113255826576848984997"
     },
     "user_tz": 480
    },
    "id": "b_uOZvE_h4mo",
    "outputId": "73a0e23b-4e39-43fe-bc83-28dbc3ebf2af"
   },
   "outputs": [
    {
     "data": {
      "text/html": [
       "<div>\n",
       "<style scoped>\n",
       "    .dataframe tbody tr th:only-of-type {\n",
       "        vertical-align: middle;\n",
       "    }\n",
       "\n",
       "    .dataframe tbody tr th {\n",
       "        vertical-align: top;\n",
       "    }\n",
       "\n",
       "    .dataframe thead th {\n",
       "        text-align: right;\n",
       "    }\n",
       "</style>\n",
       "<table border=\"1\" class=\"dataframe\">\n",
       "  <thead>\n",
       "    <tr style=\"text-align: right;\">\n",
       "      <th></th>\n",
       "      <th>index</th>\n",
       "      <th>G</th>\n",
       "      <th>Date</th>\n",
       "      <th>Player</th>\n",
       "      <th>Tm</th>\n",
       "      <th>HomeAway</th>\n",
       "      <th>Opp</th>\n",
       "      <th>WinLoss</th>\n",
       "      <th>GS</th>\n",
       "      <th>MP</th>\n",
       "      <th>...</th>\n",
       "      <th>TRB%</th>\n",
       "      <th>AST%</th>\n",
       "      <th>STL%</th>\n",
       "      <th>BLK%</th>\n",
       "      <th>TOV%</th>\n",
       "      <th>USG%</th>\n",
       "      <th>ORtg</th>\n",
       "      <th>DRtg</th>\n",
       "      <th>GmSc</th>\n",
       "      <th>NetRtg</th>\n",
       "    </tr>\n",
       "  </thead>\n",
       "  <tbody>\n",
       "    <tr>\n",
       "      <th>0</th>\n",
       "      <td>0</td>\n",
       "      <td>1.0</td>\n",
       "      <td>2017-10-19</td>\n",
       "      <td>Alex Abrines</td>\n",
       "      <td>OKC</td>\n",
       "      <td>NaN</td>\n",
       "      <td>NYK</td>\n",
       "      <td>W (+21)</td>\n",
       "      <td>0</td>\n",
       "      <td>24:15</td>\n",
       "      <td>...</td>\n",
       "      <td>7.2</td>\n",
       "      <td>0.0</td>\n",
       "      <td>2.0</td>\n",
       "      <td>0.0</td>\n",
       "      <td>28.6</td>\n",
       "      <td>11.8</td>\n",
       "      <td>45.0</td>\n",
       "      <td>89.0</td>\n",
       "      <td>-1.4</td>\n",
       "      <td>67.0</td>\n",
       "    </tr>\n",
       "    <tr>\n",
       "      <th>1</th>\n",
       "      <td>1</td>\n",
       "      <td>2.0</td>\n",
       "      <td>2017-10-21</td>\n",
       "      <td>Alex Abrines</td>\n",
       "      <td>OKC</td>\n",
       "      <td>@</td>\n",
       "      <td>UTA</td>\n",
       "      <td>L (-9)</td>\n",
       "      <td>0</td>\n",
       "      <td>29:04</td>\n",
       "      <td>...</td>\n",
       "      <td>8.4</td>\n",
       "      <td>5.8</td>\n",
       "      <td>1.8</td>\n",
       "      <td>0.0</td>\n",
       "      <td>0.0</td>\n",
       "      <td>11.0</td>\n",
       "      <td>123.0</td>\n",
       "      <td>109.0</td>\n",
       "      <td>6.9</td>\n",
       "      <td>116.0</td>\n",
       "    </tr>\n",
       "    <tr>\n",
       "      <th>2</th>\n",
       "      <td>2</td>\n",
       "      <td>3.0</td>\n",
       "      <td>2017-10-22</td>\n",
       "      <td>Alex Abrines</td>\n",
       "      <td>OKC</td>\n",
       "      <td>NaN</td>\n",
       "      <td>MIN</td>\n",
       "      <td>L (-2)</td>\n",
       "      <td>0</td>\n",
       "      <td>14:20</td>\n",
       "      <td>...</td>\n",
       "      <td>0.0</td>\n",
       "      <td>0.0</td>\n",
       "      <td>3.3</td>\n",
       "      <td>0.0</td>\n",
       "      <td>0.0</td>\n",
       "      <td>5.9</td>\n",
       "      <td>200.0</td>\n",
       "      <td>115.0</td>\n",
       "      <td>2.8</td>\n",
       "      <td>157.5</td>\n",
       "    </tr>\n",
       "    <tr>\n",
       "      <th>3</th>\n",
       "      <td>3</td>\n",
       "      <td>4.0</td>\n",
       "      <td>2017-10-25</td>\n",
       "      <td>Alex Abrines</td>\n",
       "      <td>OKC</td>\n",
       "      <td>NaN</td>\n",
       "      <td>IND</td>\n",
       "      <td>W (+18)</td>\n",
       "      <td>0</td>\n",
       "      <td>13:26</td>\n",
       "      <td>...</td>\n",
       "      <td>7.9</td>\n",
       "      <td>10.0</td>\n",
       "      <td>3.6</td>\n",
       "      <td>0.0</td>\n",
       "      <td>0.0</td>\n",
       "      <td>14.8</td>\n",
       "      <td>129.0</td>\n",
       "      <td>97.0</td>\n",
       "      <td>3.8</td>\n",
       "      <td>113.0</td>\n",
       "    </tr>\n",
       "    <tr>\n",
       "      <th>4</th>\n",
       "      <td>4</td>\n",
       "      <td>5.0</td>\n",
       "      <td>2017-10-27</td>\n",
       "      <td>Alex Abrines</td>\n",
       "      <td>OKC</td>\n",
       "      <td>@</td>\n",
       "      <td>MIN</td>\n",
       "      <td>L (-3)</td>\n",
       "      <td>0</td>\n",
       "      <td>8:27</td>\n",
       "      <td>...</td>\n",
       "      <td>0.0</td>\n",
       "      <td>0.0</td>\n",
       "      <td>0.0</td>\n",
       "      <td>0.0</td>\n",
       "      <td>0.0</td>\n",
       "      <td>5.1</td>\n",
       "      <td>0.0</td>\n",
       "      <td>133.0</td>\n",
       "      <td>-1.9</td>\n",
       "      <td>66.5</td>\n",
       "    </tr>\n",
       "  </tbody>\n",
       "</table>\n",
       "<p>5 rows × 44 columns</p>\n",
       "</div>"
      ],
      "text/plain": [
       "   index    G        Date        Player   Tm HomeAway  Opp  WinLoss GS     MP  \\\n",
       "0      0  1.0  2017-10-19  Alex Abrines  OKC      NaN  NYK  W (+21)  0  24:15   \n",
       "1      1  2.0  2017-10-21  Alex Abrines  OKC        @  UTA   L (-9)  0  29:04   \n",
       "2      2  3.0  2017-10-22  Alex Abrines  OKC      NaN  MIN   L (-2)  0  14:20   \n",
       "3      3  4.0  2017-10-25  Alex Abrines  OKC      NaN  IND  W (+18)  0  13:26   \n",
       "4      4  5.0  2017-10-27  Alex Abrines  OKC        @  MIN   L (-3)  0   8:27   \n",
       "\n",
       "    ...    TRB%  AST%  STL%  BLK%  TOV%  USG%   ORtg   DRtg  GmSc  NetRtg  \n",
       "0   ...     7.2   0.0   2.0   0.0  28.6  11.8   45.0   89.0  -1.4    67.0  \n",
       "1   ...     8.4   5.8   1.8   0.0   0.0  11.0  123.0  109.0   6.9   116.0  \n",
       "2   ...     0.0   0.0   3.3   0.0   0.0   5.9  200.0  115.0   2.8   157.5  \n",
       "3   ...     7.9  10.0   3.6   0.0   0.0  14.8  129.0   97.0   3.8   113.0  \n",
       "4   ...     0.0   0.0   0.0   0.0   0.0   5.1    0.0  133.0  -1.9    66.5  \n",
       "\n",
       "[5 rows x 44 columns]"
      ]
     },
     "execution_count": 36,
     "metadata": {},
     "output_type": "execute_result"
    }
   ],
   "source": [
    "player_game_logs.head()"
   ]
  },
  {
   "cell_type": "markdown",
   "metadata": {
    "colab_type": "text",
    "id": "9iYfZC0ah4mp"
   },
   "source": [
    "Save the data for future usages"
   ]
  },
  {
   "cell_type": "code",
   "execution_count": 37,
   "metadata": {
    "colab": {
     "autoexec": {
      "startup": false,
      "wait_interval": 0
     }
    },
    "colab_type": "code",
    "collapsed": true,
    "id": "QZUI06keh4mq"
   },
   "outputs": [],
   "source": [
    "player_game_logs.to_csv('data/Player Stats.csv')"
   ]
  },
  {
   "cell_type": "markdown",
   "metadata": {
    "colab_type": "text",
    "id": "u0s4fPNNh4mu"
   },
   "source": [
    "Find the games that a player actually plays"
   ]
  },
  {
   "cell_type": "code",
   "execution_count": 38,
   "metadata": {
    "colab": {
     "autoexec": {
      "startup": false,
      "wait_interval": 0
     }
    },
    "colab_type": "code",
    "collapsed": true,
    "id": "hyAI4bJ5h4mv"
   },
   "outputs": [],
   "source": [
    "players_active_games = player_game_logs[pd.notnull(player_game_logs['NetRtg'])]"
   ]
  },
  {
   "cell_type": "code",
   "execution_count": 39,
   "metadata": {
    "colab": {
     "autoexec": {
      "startup": false,
      "wait_interval": 0
     }
    },
    "colab_type": "code",
    "collapsed": true,
    "id": "imc8bDomh4mx"
   },
   "outputs": [],
   "source": [
    "players_active_games = players_active_games.copy()\n",
    "players_active_games['HomeAway'] = players_active_games['HomeAway'].apply(lambda x: \"Away\" if x ==\"@\" else \"Home\")"
   ]
  },
  {
   "cell_type": "code",
   "execution_count": 41,
   "metadata": {
    "colab": {
     "autoexec": {
      "startup": false,
      "wait_interval": 0
     }
    },
    "colab_type": "code",
    "collapsed": true,
    "id": "kJMck1qYh4my"
   },
   "outputs": [],
   "source": [
    "players_active_games['WinLoss'] = players_active_games['WinLoss']"
   ]
  },
  {
   "cell_type": "code",
   "execution_count": 42,
   "metadata": {
    "colab": {
     "autoexec": {
      "startup": false,
      "wait_interval": 0
     }
    },
    "colab_type": "code",
    "collapsed": true,
    "id": "zye9dfaMh4m0"
   },
   "outputs": [],
   "source": [
    "players_active_games.to_csv('data/Player Active Games.csv')"
   ]
  },
  {
   "cell_type": "markdown",
   "metadata": {
    "colab_type": "text",
    "id": "VpOK85Snh4m3"
   },
   "source": [
    "Save the data for future usages"
   ]
  },
  {
   "cell_type": "markdown",
   "metadata": {},
   "source": [
    "**Injuries Report**"
   ]
  },
  {
   "cell_type": "code",
   "execution_count": 31,
   "metadata": {
    "collapsed": true
   },
   "outputs": [],
   "source": [
    "soup =  getSoup(\"https://www.basketball-reference.com/friv/injuries.cgi\")\n",
    "column_names = ['Player', 'Team']\n",
    "data_rows = soup.findAll('tr')[1:]\n",
    "injuries = [[td.getText() for td in data_rows[i].findAll('a')]\n",
    "               for i in range(len(data_rows))]\n",
    "injuries = pd.DataFrame(injuries, columns=column_names)"
   ]
  },
  {
   "cell_type": "code",
   "execution_count": 32,
   "metadata": {
    "collapsed": true
   },
   "outputs": [],
   "source": [
    "injuries.to_csv('data/Player Injuries.csv')"
   ]
  },
  {
   "cell_type": "markdown",
   "metadata": {},
   "source": [
    "**Game Schedule**"
   ]
  },
  {
   "cell_type": "code",
   "execution_count": 57,
   "metadata": {
    "collapsed": true
   },
   "outputs": [],
   "source": [
    "soup =  getSoup(\"https://www.basketball-reference.com/leagues/NBA_2018_games-february.html\")\n",
    "column_names = ['Date', 'Time', 'Home', 'Home Score', 'Away', 'Away Score', 'Box Score', '', 'Attendence','']\n",
    "data_rows = soup.findAll('tr')[1:]\n",
    "schedule = [[td.getText() for td in (data_rows[i].findAll('th'))] \n",
    "            + [td.getText() for td in (data_rows[i].findAll('td'))]\n",
    "               for i in range(len(data_rows))]\n",
    "schedule = pd.DataFrame(schedule, columns=column_names)[['Date', 'Home', 'Home Score', 'Away', 'Away Score']]"
   ]
  },
  {
   "cell_type": "code",
   "execution_count": 58,
   "metadata": {
    "collapsed": true
   },
   "outputs": [],
   "source": [
    "schedule['Date'] = schedule['Date'].apply(lambda x: x[4:])\n",
    "schedule['Date'] = pd.to_datetime(schedule['Date'], infer_datetime_format=True)"
   ]
  },
  {
   "cell_type": "code",
   "execution_count": 60,
   "metadata": {
    "collapsed": true
   },
   "outputs": [],
   "source": [
    "schedule.to_csv('data/Schduled Games.csv')"
   ]
  }
 ],
 "metadata": {
  "accelerator": "GPU",
  "colab": {
   "default_view": {},
   "name": "NBA Single Game Predictions - Data Cleaning.ipynb",
   "provenance": [],
   "version": "0.3.2",
   "views": {}
  },
  "kernelspec": {
   "display_name": "Python 3",
   "language": "python",
   "name": "python3"
  },
  "language_info": {
   "codemirror_mode": {
    "name": "ipython",
    "version": 3
   },
   "file_extension": ".py",
   "mimetype": "text/x-python",
   "name": "python",
   "nbconvert_exporter": "python",
   "pygments_lexer": "ipython3",
   "version": "3.6.3"
  }
 },
 "nbformat": 4,
 "nbformat_minor": 1
}
